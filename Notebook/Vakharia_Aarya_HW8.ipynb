{
 "cells": [
  {
   "cell_type": "markdown",
   "id": "1fcf9d64",
   "metadata": {},
   "source": [
    "# Homework 8 Monte-Carlo Simulations\n",
    "\n",
    "#### Name: Aarya Vakharia\n",
    "#### Github Id: vakharia-aarya\n",
    "#### USC Id: 4053556880"
   ]
  },
  {
   "cell_type": "code",
   "execution_count": 55,
   "id": "80755d5d",
   "metadata": {},
   "outputs": [],
   "source": [
    "import pandas as pd\n",
    "import numpy as np\n",
    "import matplotlib.pyplot as plt\n",
    "\n",
    "# scikit-learn Dependencies\n",
    "from sklearn.model_selection import train_test_split, GridSearchCV, StratifiedKFold\n",
    "from sklearn.preprocessing import StandardScaler, MinMaxScaler\n",
    "from sklearn.svm import LinearSVC\n",
    "from sklearn.metrics import accuracy_score, recall_score, precision_score, f1_score, roc_auc_score, confusion_matrix, RocCurveDisplay\n",
    "from sklearn.cluster import KMeans, SpectralClustering\n",
    "\n",
    "# Imb-learn Dependencies\n",
    "from imblearn.pipeline import Pipeline as imbpipline"
   ]
  },
  {
   "cell_type": "code",
   "execution_count": 56,
   "id": "4902f870",
   "metadata": {},
   "outputs": [],
   "source": [
    "import warnings\n",
    "warnings.filterwarnings('ignore')"
   ]
  },
  {
   "cell_type": "markdown",
   "id": "3097b3dd",
   "metadata": {},
   "source": [
    "### 1. Supervised, Semi-Supervised, and Unsupervised Learning\n",
    "\n",
    "**(a) Download the Breast Cancer Wisconsin (Diagnostic) Data Set from:https://archive.ics.uci.edu/ml/datasets/Breast+Cancer+Wisconsin+%28Diagnostic%29. Download the data in https://archive.ics.uci.edu/ml/machine-learning-databases/breast-cancer-wisconsin/wdbc.data, which has IDs, classes (Benign=B, Malignant=M), and 30 attributes. This data has two output classes.**"
   ]
  },
  {
   "cell_type": "code",
   "execution_count": 57,
   "id": "818045f7",
   "metadata": {},
   "outputs": [
    {
     "data": {
      "text/html": [
       "<div>\n",
       "<style scoped>\n",
       "    .dataframe tbody tr th:only-of-type {\n",
       "        vertical-align: middle;\n",
       "    }\n",
       "\n",
       "    .dataframe tbody tr th {\n",
       "        vertical-align: top;\n",
       "    }\n",
       "\n",
       "    .dataframe thead th {\n",
       "        text-align: right;\n",
       "    }\n",
       "</style>\n",
       "<table border=\"1\" class=\"dataframe\">\n",
       "  <thead>\n",
       "    <tr style=\"text-align: right;\">\n",
       "      <th></th>\n",
       "      <th>ID</th>\n",
       "      <th>Diagnosis</th>\n",
       "      <th>1</th>\n",
       "      <th>2</th>\n",
       "      <th>3</th>\n",
       "      <th>4</th>\n",
       "      <th>5</th>\n",
       "      <th>6</th>\n",
       "      <th>7</th>\n",
       "      <th>8</th>\n",
       "      <th>...</th>\n",
       "      <th>21</th>\n",
       "      <th>22</th>\n",
       "      <th>23</th>\n",
       "      <th>24</th>\n",
       "      <th>25</th>\n",
       "      <th>26</th>\n",
       "      <th>27</th>\n",
       "      <th>28</th>\n",
       "      <th>29</th>\n",
       "      <th>30</th>\n",
       "    </tr>\n",
       "  </thead>\n",
       "  <tbody>\n",
       "    <tr>\n",
       "      <th>0</th>\n",
       "      <td>842302</td>\n",
       "      <td>M</td>\n",
       "      <td>17.99</td>\n",
       "      <td>10.38</td>\n",
       "      <td>122.80</td>\n",
       "      <td>1001.0</td>\n",
       "      <td>0.11840</td>\n",
       "      <td>0.27760</td>\n",
       "      <td>0.30010</td>\n",
       "      <td>0.14710</td>\n",
       "      <td>...</td>\n",
       "      <td>25.380</td>\n",
       "      <td>17.33</td>\n",
       "      <td>184.60</td>\n",
       "      <td>2019.0</td>\n",
       "      <td>0.16220</td>\n",
       "      <td>0.66560</td>\n",
       "      <td>0.7119</td>\n",
       "      <td>0.2654</td>\n",
       "      <td>0.4601</td>\n",
       "      <td>0.11890</td>\n",
       "    </tr>\n",
       "    <tr>\n",
       "      <th>1</th>\n",
       "      <td>842517</td>\n",
       "      <td>M</td>\n",
       "      <td>20.57</td>\n",
       "      <td>17.77</td>\n",
       "      <td>132.90</td>\n",
       "      <td>1326.0</td>\n",
       "      <td>0.08474</td>\n",
       "      <td>0.07864</td>\n",
       "      <td>0.08690</td>\n",
       "      <td>0.07017</td>\n",
       "      <td>...</td>\n",
       "      <td>24.990</td>\n",
       "      <td>23.41</td>\n",
       "      <td>158.80</td>\n",
       "      <td>1956.0</td>\n",
       "      <td>0.12380</td>\n",
       "      <td>0.18660</td>\n",
       "      <td>0.2416</td>\n",
       "      <td>0.1860</td>\n",
       "      <td>0.2750</td>\n",
       "      <td>0.08902</td>\n",
       "    </tr>\n",
       "    <tr>\n",
       "      <th>2</th>\n",
       "      <td>84300903</td>\n",
       "      <td>M</td>\n",
       "      <td>19.69</td>\n",
       "      <td>21.25</td>\n",
       "      <td>130.00</td>\n",
       "      <td>1203.0</td>\n",
       "      <td>0.10960</td>\n",
       "      <td>0.15990</td>\n",
       "      <td>0.19740</td>\n",
       "      <td>0.12790</td>\n",
       "      <td>...</td>\n",
       "      <td>23.570</td>\n",
       "      <td>25.53</td>\n",
       "      <td>152.50</td>\n",
       "      <td>1709.0</td>\n",
       "      <td>0.14440</td>\n",
       "      <td>0.42450</td>\n",
       "      <td>0.4504</td>\n",
       "      <td>0.2430</td>\n",
       "      <td>0.3613</td>\n",
       "      <td>0.08758</td>\n",
       "    </tr>\n",
       "    <tr>\n",
       "      <th>3</th>\n",
       "      <td>84348301</td>\n",
       "      <td>M</td>\n",
       "      <td>11.42</td>\n",
       "      <td>20.38</td>\n",
       "      <td>77.58</td>\n",
       "      <td>386.1</td>\n",
       "      <td>0.14250</td>\n",
       "      <td>0.28390</td>\n",
       "      <td>0.24140</td>\n",
       "      <td>0.10520</td>\n",
       "      <td>...</td>\n",
       "      <td>14.910</td>\n",
       "      <td>26.50</td>\n",
       "      <td>98.87</td>\n",
       "      <td>567.7</td>\n",
       "      <td>0.20980</td>\n",
       "      <td>0.86630</td>\n",
       "      <td>0.6869</td>\n",
       "      <td>0.2575</td>\n",
       "      <td>0.6638</td>\n",
       "      <td>0.17300</td>\n",
       "    </tr>\n",
       "    <tr>\n",
       "      <th>4</th>\n",
       "      <td>84358402</td>\n",
       "      <td>M</td>\n",
       "      <td>20.29</td>\n",
       "      <td>14.34</td>\n",
       "      <td>135.10</td>\n",
       "      <td>1297.0</td>\n",
       "      <td>0.10030</td>\n",
       "      <td>0.13280</td>\n",
       "      <td>0.19800</td>\n",
       "      <td>0.10430</td>\n",
       "      <td>...</td>\n",
       "      <td>22.540</td>\n",
       "      <td>16.67</td>\n",
       "      <td>152.20</td>\n",
       "      <td>1575.0</td>\n",
       "      <td>0.13740</td>\n",
       "      <td>0.20500</td>\n",
       "      <td>0.4000</td>\n",
       "      <td>0.1625</td>\n",
       "      <td>0.2364</td>\n",
       "      <td>0.07678</td>\n",
       "    </tr>\n",
       "    <tr>\n",
       "      <th>...</th>\n",
       "      <td>...</td>\n",
       "      <td>...</td>\n",
       "      <td>...</td>\n",
       "      <td>...</td>\n",
       "      <td>...</td>\n",
       "      <td>...</td>\n",
       "      <td>...</td>\n",
       "      <td>...</td>\n",
       "      <td>...</td>\n",
       "      <td>...</td>\n",
       "      <td>...</td>\n",
       "      <td>...</td>\n",
       "      <td>...</td>\n",
       "      <td>...</td>\n",
       "      <td>...</td>\n",
       "      <td>...</td>\n",
       "      <td>...</td>\n",
       "      <td>...</td>\n",
       "      <td>...</td>\n",
       "      <td>...</td>\n",
       "      <td>...</td>\n",
       "    </tr>\n",
       "    <tr>\n",
       "      <th>564</th>\n",
       "      <td>926424</td>\n",
       "      <td>M</td>\n",
       "      <td>21.56</td>\n",
       "      <td>22.39</td>\n",
       "      <td>142.00</td>\n",
       "      <td>1479.0</td>\n",
       "      <td>0.11100</td>\n",
       "      <td>0.11590</td>\n",
       "      <td>0.24390</td>\n",
       "      <td>0.13890</td>\n",
       "      <td>...</td>\n",
       "      <td>25.450</td>\n",
       "      <td>26.40</td>\n",
       "      <td>166.10</td>\n",
       "      <td>2027.0</td>\n",
       "      <td>0.14100</td>\n",
       "      <td>0.21130</td>\n",
       "      <td>0.4107</td>\n",
       "      <td>0.2216</td>\n",
       "      <td>0.2060</td>\n",
       "      <td>0.07115</td>\n",
       "    </tr>\n",
       "    <tr>\n",
       "      <th>565</th>\n",
       "      <td>926682</td>\n",
       "      <td>M</td>\n",
       "      <td>20.13</td>\n",
       "      <td>28.25</td>\n",
       "      <td>131.20</td>\n",
       "      <td>1261.0</td>\n",
       "      <td>0.09780</td>\n",
       "      <td>0.10340</td>\n",
       "      <td>0.14400</td>\n",
       "      <td>0.09791</td>\n",
       "      <td>...</td>\n",
       "      <td>23.690</td>\n",
       "      <td>38.25</td>\n",
       "      <td>155.00</td>\n",
       "      <td>1731.0</td>\n",
       "      <td>0.11660</td>\n",
       "      <td>0.19220</td>\n",
       "      <td>0.3215</td>\n",
       "      <td>0.1628</td>\n",
       "      <td>0.2572</td>\n",
       "      <td>0.06637</td>\n",
       "    </tr>\n",
       "    <tr>\n",
       "      <th>566</th>\n",
       "      <td>926954</td>\n",
       "      <td>M</td>\n",
       "      <td>16.60</td>\n",
       "      <td>28.08</td>\n",
       "      <td>108.30</td>\n",
       "      <td>858.1</td>\n",
       "      <td>0.08455</td>\n",
       "      <td>0.10230</td>\n",
       "      <td>0.09251</td>\n",
       "      <td>0.05302</td>\n",
       "      <td>...</td>\n",
       "      <td>18.980</td>\n",
       "      <td>34.12</td>\n",
       "      <td>126.70</td>\n",
       "      <td>1124.0</td>\n",
       "      <td>0.11390</td>\n",
       "      <td>0.30940</td>\n",
       "      <td>0.3403</td>\n",
       "      <td>0.1418</td>\n",
       "      <td>0.2218</td>\n",
       "      <td>0.07820</td>\n",
       "    </tr>\n",
       "    <tr>\n",
       "      <th>567</th>\n",
       "      <td>927241</td>\n",
       "      <td>M</td>\n",
       "      <td>20.60</td>\n",
       "      <td>29.33</td>\n",
       "      <td>140.10</td>\n",
       "      <td>1265.0</td>\n",
       "      <td>0.11780</td>\n",
       "      <td>0.27700</td>\n",
       "      <td>0.35140</td>\n",
       "      <td>0.15200</td>\n",
       "      <td>...</td>\n",
       "      <td>25.740</td>\n",
       "      <td>39.42</td>\n",
       "      <td>184.60</td>\n",
       "      <td>1821.0</td>\n",
       "      <td>0.16500</td>\n",
       "      <td>0.86810</td>\n",
       "      <td>0.9387</td>\n",
       "      <td>0.2650</td>\n",
       "      <td>0.4087</td>\n",
       "      <td>0.12400</td>\n",
       "    </tr>\n",
       "    <tr>\n",
       "      <th>568</th>\n",
       "      <td>92751</td>\n",
       "      <td>B</td>\n",
       "      <td>7.76</td>\n",
       "      <td>24.54</td>\n",
       "      <td>47.92</td>\n",
       "      <td>181.0</td>\n",
       "      <td>0.05263</td>\n",
       "      <td>0.04362</td>\n",
       "      <td>0.00000</td>\n",
       "      <td>0.00000</td>\n",
       "      <td>...</td>\n",
       "      <td>9.456</td>\n",
       "      <td>30.37</td>\n",
       "      <td>59.16</td>\n",
       "      <td>268.6</td>\n",
       "      <td>0.08996</td>\n",
       "      <td>0.06444</td>\n",
       "      <td>0.0000</td>\n",
       "      <td>0.0000</td>\n",
       "      <td>0.2871</td>\n",
       "      <td>0.07039</td>\n",
       "    </tr>\n",
       "  </tbody>\n",
       "</table>\n",
       "<p>569 rows × 32 columns</p>\n",
       "</div>"
      ],
      "text/plain": [
       "           ID Diagnosis      1      2       3       4        5        6  \\\n",
       "0      842302         M  17.99  10.38  122.80  1001.0  0.11840  0.27760   \n",
       "1      842517         M  20.57  17.77  132.90  1326.0  0.08474  0.07864   \n",
       "2    84300903         M  19.69  21.25  130.00  1203.0  0.10960  0.15990   \n",
       "3    84348301         M  11.42  20.38   77.58   386.1  0.14250  0.28390   \n",
       "4    84358402         M  20.29  14.34  135.10  1297.0  0.10030  0.13280   \n",
       "..        ...       ...    ...    ...     ...     ...      ...      ...   \n",
       "564    926424         M  21.56  22.39  142.00  1479.0  0.11100  0.11590   \n",
       "565    926682         M  20.13  28.25  131.20  1261.0  0.09780  0.10340   \n",
       "566    926954         M  16.60  28.08  108.30   858.1  0.08455  0.10230   \n",
       "567    927241         M  20.60  29.33  140.10  1265.0  0.11780  0.27700   \n",
       "568     92751         B   7.76  24.54   47.92   181.0  0.05263  0.04362   \n",
       "\n",
       "           7        8  ...      21     22      23      24       25       26  \\\n",
       "0    0.30010  0.14710  ...  25.380  17.33  184.60  2019.0  0.16220  0.66560   \n",
       "1    0.08690  0.07017  ...  24.990  23.41  158.80  1956.0  0.12380  0.18660   \n",
       "2    0.19740  0.12790  ...  23.570  25.53  152.50  1709.0  0.14440  0.42450   \n",
       "3    0.24140  0.10520  ...  14.910  26.50   98.87   567.7  0.20980  0.86630   \n",
       "4    0.19800  0.10430  ...  22.540  16.67  152.20  1575.0  0.13740  0.20500   \n",
       "..       ...      ...  ...     ...    ...     ...     ...      ...      ...   \n",
       "564  0.24390  0.13890  ...  25.450  26.40  166.10  2027.0  0.14100  0.21130   \n",
       "565  0.14400  0.09791  ...  23.690  38.25  155.00  1731.0  0.11660  0.19220   \n",
       "566  0.09251  0.05302  ...  18.980  34.12  126.70  1124.0  0.11390  0.30940   \n",
       "567  0.35140  0.15200  ...  25.740  39.42  184.60  1821.0  0.16500  0.86810   \n",
       "568  0.00000  0.00000  ...   9.456  30.37   59.16   268.6  0.08996  0.06444   \n",
       "\n",
       "         27      28      29       30  \n",
       "0    0.7119  0.2654  0.4601  0.11890  \n",
       "1    0.2416  0.1860  0.2750  0.08902  \n",
       "2    0.4504  0.2430  0.3613  0.08758  \n",
       "3    0.6869  0.2575  0.6638  0.17300  \n",
       "4    0.4000  0.1625  0.2364  0.07678  \n",
       "..      ...     ...     ...      ...  \n",
       "564  0.4107  0.2216  0.2060  0.07115  \n",
       "565  0.3215  0.1628  0.2572  0.06637  \n",
       "566  0.3403  0.1418  0.2218  0.07820  \n",
       "567  0.9387  0.2650  0.4087  0.12400  \n",
       "568  0.0000  0.0000  0.2871  0.07039  \n",
       "\n",
       "[569 rows x 32 columns]"
      ]
     },
     "execution_count": 57,
     "metadata": {},
     "output_type": "execute_result"
    }
   ],
   "source": [
    "# read data file and display\n",
    "column_names = ['ID','Diagnosis'] + [x for x in range(1,31)]\n",
    "df = pd.read_csv('../Data/wdbc.data',names= column_names)\n",
    "\n",
    "df"
   ]
  },
  {
   "cell_type": "code",
   "execution_count": 58,
   "id": "3e8b6708",
   "metadata": {},
   "outputs": [],
   "source": [
    "# Split data into predictors and labels\n",
    "X = df.iloc[:,2:]\n",
    "y = df.iloc[:,1:2]"
   ]
  },
  {
   "cell_type": "code",
   "execution_count": 59,
   "id": "6747e47b",
   "metadata": {},
   "outputs": [],
   "source": [
    "# Encoding the labels to binary values\n",
    "y['Diagnosis'] = np.where(y['Diagnosis'] == 'B',0,1)"
   ]
  },
  {
   "cell_type": "markdown",
   "id": "95049ff6",
   "metadata": {},
   "source": [
    "**i. Supervised Learning: Train an L1-penalized SVM to classify the data. Use 5 fold cross validation to choose the penalty parameter. Use normalized data. Report the average accuracy, precision, recall, F1-score, and AUC, for both training and test sets over your M runs. Plot the ROC and report the confusion matrix for training and testing in one of the runs.**"
   ]
  },
  {
   "cell_type": "code",
   "execution_count": 60,
   "id": "208ea54f",
   "metadata": {},
   "outputs": [
    {
     "data": {
      "image/png": "[encoded data removed]",
      "text/plain": [
       "<Figure size 432x288 with 1 Axes>"
      ]
     },
     "metadata": {
      "needs_background": "light"
     },
     "output_type": "display_data"
    },
    {
     "name": "stdout",
     "output_type": "stream",
     "text": [
      "Confusion Matrix for Train: \n",
      "[[283   2]\n",
      " [  5 165]]\n"
     ]
    },
    {
     "data": {
      "image/png": "[encoded data removed]",
      "text/plain": [
       "<Figure size 432x288 with 1 Axes>"
      ]
     },
     "metadata": {
      "needs_background": "light"
     },
     "output_type": "display_data"
    },
    {
     "name": "stdout",
     "output_type": "stream",
     "text": [
      "Confusion Matrix for Testing: \n",
      "[[71  1]\n",
      " [ 1 41]]\n"
     ]
    }
   ],
   "source": [
    "# Monte-Carlo for supervised learning \n",
    "accuracy, precision, recall, f1, AUC = pd.DataFrame(),pd.DataFrame(),pd.DataFrame(),pd.DataFrame(),pd.DataFrame()\n",
    "\n",
    "for i in range(30):\n",
    "    # Split into train-test\n",
    "    X_train,X_test,y_train,y_test = train_test_split(X,y.values.ravel(),stratify=y,test_size=0.2, \n",
    "                                                     random_state=np.random.randint(1,i+5*300))\n",
    "    \n",
    "    # declaring parameters for Cross-Validation\n",
    "    scaler = StandardScaler()\n",
    "    clf_svc = LinearSVC(penalty='l1', dual=False, max_iter=10000)\n",
    "    pipeline =  imbpipline(steps=[['scaler',scaler],['classifier',clf_svc]])\n",
    "    cv = StratifiedKFold(n_splits=5,shuffle=True)\n",
    "    \n",
    "    # CV parameter\n",
    "    parameters = {'classifier__C': np.logspace(-3,6,10)}\n",
    "    \n",
    "    # Cross-validation\n",
    "    grid =  GridSearchCV(estimator=pipeline,param_grid=parameters,cv = cv, scoring='accuracy', n_jobs=-1)\n",
    "    grid.fit(X_train,y_train)\n",
    "    \n",
    "    # Calculating various scoring metrices for train and test sets\n",
    "    y_pred_train = grid.predict(X_train)\n",
    "    y_pred_test = grid.predict(X_test)\n",
    "    \n",
    "    # Accuracy\n",
    "    accuracy.loc[i,'Train'] = grid.best_score_\n",
    "    accuracy.loc[i,'Test'] = accuracy_score(y_test,y_pred_test)\n",
    "    \n",
    "    # Precision\n",
    "    precision.loc[i,'Train'] = precision_score(y_train,y_pred_train)\n",
    "    precision.loc[i,'Test'] = precision_score(y_test,y_pred_test)\n",
    "    \n",
    "    # Recall\n",
    "    recall.loc[i,'Train'] = recall_score(y_train,y_pred_train)\n",
    "    recall.loc[i,'Test'] = recall_score(y_test,y_pred_test)\n",
    "    \n",
    "    # F1 Score\n",
    "    f1.loc[i,'Train'] = f1_score(y_train,y_pred_train)\n",
    "    f1.loc[i,'Test'] = f1_score(y_test,y_pred_test)\n",
    "    \n",
    "    # AUC\n",
    "    AUC.loc[i,'Train'] = roc_auc_score(y_train,y_pred_train)\n",
    "    AUC.loc[i,'Test'] = roc_auc_score(y_test,y_pred_test)\n",
    "        \n",
    "    # Reporting the ROC and Confusion Matrix of one of the simulation\n",
    "    if i == 24:\n",
    "        # Training Curve\n",
    "        RocCurveDisplay.from_estimator(grid.best_estimator_, X_train,y_train)\n",
    "        plt.title(\"Training ROC Curve\")\n",
    "        plt.show()\n",
    "        \n",
    "        print(f\"Confusion Matrix for Train: \\n{confusion_matrix(y_train,y_pred_train)}\")\n",
    "        \n",
    "        # Testing Curve\n",
    "        RocCurveDisplay.from_estimator(grid.best_estimator_, X_test,y_test)\n",
    "        plt.title(\"Testing ROC Curve\")\n",
    "        plt.show()\n",
    "        \n",
    "        print(f\"Confusion Matrix for Testing: \\n{confusion_matrix(y_test,y_pred_test)}\")"
   ]
  },
  {
   "cell_type": "code",
   "execution_count": 61,
   "id": "33efbb6d",
   "metadata": {
    "scrolled": true
   },
   "outputs": [
    {
     "name": "stdout",
     "output_type": "stream",
     "text": [
      "The Mean Accuracy for Train is: 0.9740659340659341 and Test is: 0.9713450292397657\n",
      "\n",
      "The Mean Precision for Train is: 0.9904197653640231 and Test is: 0.9704981738512157\n",
      "\n",
      "The Mean Recall for Train is: 0.9715686274509798 and Test is: 0.9523809523809521\n",
      "\n",
      "The Mean F1-Score for Train is: 0.9808921164022493 and Test is: 0.9607956737652713\n",
      "\n",
      "The Mean AUC for Train is: 0.9829772961816308 and Test is: 0.9673941798941799\n",
      "\n"
     ]
    }
   ],
   "source": [
    "# Reporting The means of each metric\n",
    "\n",
    "print(f\"The Mean Accuracy for Train is: {accuracy['Train'].mean()} and Test is: {accuracy['Test'].mean()}\\n\")\n",
    "\n",
    "print(f\"The Mean Precision for Train is: {precision['Train'].mean()} and Test is: {precision['Test'].mean()}\\n\")\n",
    "\n",
    "print(f\"The Mean Recall for Train is: {recall['Train'].mean()} and Test is: {recall['Test'].mean()}\\n\")\n",
    "\n",
    "print(f\"The Mean F1-Score for Train is: {f1['Train'].mean()} and Test is: {f1['Test'].mean()}\\n\")\n",
    "\n",
    "print(f\"The Mean AUC for Train is: {AUC['Train'].mean()} and Test is: {AUC['Test'].mean()}\\n\")"
   ]
  },
  {
   "cell_type": "markdown",
   "id": "08d04268",
   "metadata": {},
   "source": [
    "**ii. Semi-Supervised Learning/ Self-training: select 50% of the positive class along with 50% of the negative class in the training set as labeled data and the rest as unlabelled data. You can select them randomly.**\n",
    "\n",
    ">**A. Train an L1-penalized SVM to classify the labeled data Use normalized data. Choose the penalty parameter using 5 fold cross validation.**\n",
    "\n",
    ">**B. Find the unlabeled data point that is the farthest to the decision boundary of the SVM. Let the SVM label it (ignore its true label), and add it to the labeled data, and retrain the SVM. Continue this process until all unlabeled data are used. Test the final SVM on the test data and the average accuracy, precision, recall, F1-score, and AUC, for both training\n",
    "and test sets over your M runs. Plot the ROC and report the confusion matrix for training and testing in one of the runs.**"
   ]
  },
  {
   "cell_type": "code",
   "execution_count": 62,
   "id": "42096744",
   "metadata": {},
   "outputs": [],
   "source": [
    "# Function to split data into labled and unlabled data\n",
    "\n",
    "def lable_unlable_split(X,y):\n",
    "    \n",
    "    new_df = pd.concat([X,y], axis=1)\n",
    "    \n",
    "    # Get value of +ve and -ve classes\n",
    "    pos_data = new_df.loc[new_df['Diagnosis'] == 1]\n",
    "    neg_data = new_df.loc[new_df['Diagnosis'] == 0]\n",
    "    \n",
    "    # Split data into labeled and unlabeled data for each class\n",
    "    pos_labled = pos_data.sample(frac = 0.5)\n",
    "    pos_unlabled = pos_data.drop(pos_labled.index)\n",
    "    \n",
    "    neg_labled = neg_data.sample(frac = 0.5)\n",
    "    neg_unlabled = neg_data.drop(neg_labled.index)\n",
    "    \n",
    "    # Combine the labled and unlabled data\n",
    "    lable = pd.concat([pos_labled,neg_labled], ignore_index=True) \n",
    "    unlable = pd.concat([pos_unlabled,neg_unlabled],ignore_index=True).drop('Diagnosis',axis=1)\n",
    "    \n",
    "    return lable, unlable"
   ]
  },
  {
   "cell_type": "code",
   "execution_count": 63,
   "id": "8678cd59",
   "metadata": {
    "scrolled": false
   },
   "outputs": [
    {
     "data": {
      "image/png": "[encoded data removed]",
      "text/plain": [
       "<Figure size 432x288 with 1 Axes>"
      ]
     },
     "metadata": {
      "needs_background": "light"
     },
     "output_type": "display_data"
    },
    {
     "name": "stdout",
     "output_type": "stream",
     "text": [
      "Confusion Matrix for Train: \n",
      "[[277   8]\n",
      " [  7 163]]\n"
     ]
    },
    {
     "data": {
      "image/png": "[encoded data removed]",
      "text/plain": [
       "<Figure size 432x288 with 1 Axes>"
      ]
     },
     "metadata": {
      "needs_background": "light"
     },
     "output_type": "display_data"
    },
    {
     "name": "stdout",
     "output_type": "stream",
     "text": [
      "Confusion Matrix for Testing: \n",
      "[[70  2]\n",
      " [ 4 38]]\n"
     ]
    }
   ],
   "source": [
    "# Monte-Carlo simulation for Semi-Supervised learning \n",
    "accuracy, precision, recall, f1, AUC = pd.DataFrame(),pd.DataFrame(),pd.DataFrame(),pd.DataFrame(),pd.DataFrame()\n",
    "\n",
    "for i in range(30):\n",
    "    \n",
    "    # Split the data into train and test\n",
    "    X_train,X_test,y_train,y_test = train_test_split(X,y.values.ravel(),stratify=y,test_size=0.2, \n",
    "                                                     random_state=np.random.randint(1,i+5*300))\n",
    "    \n",
    "    # Convert data into dataframe\n",
    "    X_train = pd.DataFrame.from_records(X_train, columns = [x for x in range(1,31)])\n",
    "    y_train = pd.DataFrame(y_train,columns=['Diagnosis'])\n",
    "    \n",
    "    # Split training data into labled and unlabled data\n",
    "    train_labled,train_unlabled = lable_unlable_split(X_train,y_train)\n",
    "        \n",
    "    # Train a SVC with labled data\n",
    "    scaler = StandardScaler()\n",
    "    clf = LinearSVC(penalty='l1', dual=False, max_iter=10000)\n",
    "    pipeline = imbpipline(steps=[['scaler',StandardScaler()],['classifier',clf]])\n",
    "    \n",
    "    parameters = {'classifier__C': np.logspace(-3,6,10)}\n",
    "    cv = StratifiedKFold(n_splits=5, shuffle=True)\n",
    "\n",
    "    # Cross Validation\n",
    "    grid = GridSearchCV(estimator=pipeline,param_grid=parameters,cv =cv,n_jobs=-1, scoring='accuracy')\n",
    "    \n",
    "    while len(train_unlabled) > 0:\n",
    "        \n",
    "        grid.fit(train_labled.iloc[:,:-1],train_labled.iloc[:,-1:].values.ravel())\n",
    "        \n",
    "        # Get farthest point from margin\n",
    "        confidenc_scores = grid.decision_function(train_unlabled)\n",
    "        farthest_datapoint = confidenc_scores.max()\n",
    "        farthest_datapoint_index  = np.where(confidenc_scores == farthest_datapoint)[0][0]\n",
    "\n",
    "        # Predict lable of farhtest datapoint\n",
    "        new_row = train_unlabled.filter([farthest_datapoint_index],axis=0)\n",
    "        y_pred = grid.predict(new_row)\n",
    "        \n",
    "        # Add datapoint to the labled datset\n",
    "        new_row['Diagnosis'] = y_pred\n",
    "        train_labled.append(new_row)\n",
    "        train_unlabled = train_unlabled.drop(farthest_datapoint_index).reset_index(drop=True)\n",
    "    \n",
    "    # Calculating various scoring metrices for train and test sets\n",
    "    y_pred_train = grid.predict(X_train)\n",
    "    y_pred_test = grid.predict(X_test)\n",
    "    \n",
    "    # Accuracy\n",
    "    accuracy.loc[i,'Train'] = grid.best_score_\n",
    "    accuracy.loc[i,'Test'] = accuracy_score(y_test,y_pred_test)\n",
    "    \n",
    "    # Precision\n",
    "    precision.loc[i,'Train'] = precision_score(y_train,y_pred_train)\n",
    "    precision.loc[i,'Test'] = precision_score(y_test,y_pred_test)\n",
    "    \n",
    "    # Recall\n",
    "    recall.loc[i,'Train'] = recall_score(y_train,y_pred_train)\n",
    "    recall.loc[i,'Test'] = recall_score(y_test,y_pred_test)\n",
    "    \n",
    "    # F1 Score\n",
    "    f1.loc[i,'Train'] = f1_score(y_train,y_pred_train)\n",
    "    f1.loc[i,'Test'] = f1_score(y_test,y_pred_test)\n",
    "    \n",
    "    # AUC\n",
    "    AUC.loc[i,'Train'] = roc_auc_score(y_train,y_pred_train)\n",
    "    AUC.loc[i,'Test'] = roc_auc_score(y_test,y_pred_test)\n",
    "   \n",
    "    if i == 24:\n",
    "        # Training Curve\n",
    "        RocCurveDisplay.from_estimator(grid.best_estimator_, X_train,y_train)\n",
    "        plt.title(\"Training ROC Curve\")\n",
    "        plt.show()\n",
    "        \n",
    "        print(f\"Confusion Matrix for Train: \\n{confusion_matrix(y_train,y_pred_train)}\")\n",
    "        \n",
    "        # Testing Curve\n",
    "        RocCurveDisplay.from_estimator(grid.best_estimator_, X_test,y_test)\n",
    "        plt.title(\"Testing ROC Curve\")\n",
    "        plt.show()\n",
    "        \n",
    "        print(f\"Confusion Matrix for Testing: \\n{confusion_matrix(y_test,y_pred_test)}\")       "
   ]
  },
  {
   "cell_type": "code",
   "execution_count": 64,
   "id": "ea4a6344",
   "metadata": {},
   "outputs": [
    {
     "name": "stdout",
     "output_type": "stream",
     "text": [
      "The Mean Accuracy for Train is: 0.9731143317230272 and Test is: 0.9625730994152042\n",
      "\n",
      "The Mean Precision for Train is: 0.9784693765179249 and Test is: 0.9622397256903005\n",
      "\n",
      "The Mean Recall for Train is: 0.9564705882352939 and Test is: 0.9365079365079362\n",
      "\n",
      "The Mean F1-Score for Train is: 0.9671574011691 and Test is: 0.9485315420066043\n",
      "\n",
      "The Mean AUC for Train is: 0.9718610251117991 and Test is: 0.9571428571428573\n",
      "\n"
     ]
    }
   ],
   "source": [
    "# Reporting The means of each metric\n",
    "\n",
    "print(f\"The Mean Accuracy for Train is: {accuracy['Train'].mean()} and Test is: {accuracy['Test'].mean()}\\n\")\n",
    "\n",
    "print(f\"The Mean Precision for Train is: {precision['Train'].mean()} and Test is: {precision['Test'].mean()}\\n\")\n",
    "\n",
    "print(f\"The Mean Recall for Train is: {recall['Train'].mean()} and Test is: {recall['Test'].mean()}\\n\")\n",
    "\n",
    "print(f\"The Mean F1-Score for Train is: {f1['Train'].mean()} and Test is: {f1['Test'].mean()}\\n\")\n",
    "\n",
    "print(f\"The Mean AUC for Train is: {AUC['Train'].mean()} and Test is: {AUC['Test'].mean()}\\n\")"
   ]
  },
  {
   "cell_type": "markdown",
   "id": "d647d35e",
   "metadata": {},
   "source": [
    "**iii. Unsupervised Learning: Run k-means algorithm on the whole training set. Ignore the labels of the data, and assume k = 2.**\n",
    "\n",
    "> **A. Run the k-means algorithm multiple times. Make sure that you initialize the algoritm randomly. How do you make sure that the algorithm was not trapped in a local minimum?**\n",
    "\n",
    ">One of the easiest ways to try and find the global minimum is to run the k-means algorithm multiple times with random starting points each time. This ensures that the algorithm is not stuck in the local minimum. \n",
    "\n",
    ">**B. Compute the centers of the two clusters and find the closest 30 data points to each center. Read the true labels of those 30 data points and take a majority poll within them. The majority poll becomes the label predicted by k-means for the members of each cluster. Then compare the labels provided by k-means with the true labels of the training data and report the average accuracy, precision, recall, F1-score, and AUC over M runs, and ROC and the confusion matrix for one of the runs.**\n",
    "\n",
    ">**C. Classify test data based on their proximity to the centers of the clusters. Report the average accuracy, precision, recall, F1-score, and AUC over M runs, and ROC and the confusion matrix for one of the runs for the test data.**"
   ]
  },
  {
   "cell_type": "code",
   "execution_count": 65,
   "id": "bcad44f9",
   "metadata": {
    "scrolled": false
   },
   "outputs": [
    {
     "data": {
      "image/png": "[encoded data removed]",
      "text/plain": [
       "<Figure size 432x288 with 1 Axes>"
      ]
     },
     "metadata": {
      "needs_background": "light"
     },
     "output_type": "display_data"
    },
    {
     "name": "stdout",
     "output_type": "stream",
     "text": [
      "Confusion Matrix for Train: \n",
      "[[284   1]\n",
      " [ 71  99]]\n"
     ]
    },
    {
     "data": {
      "image/png": "[encoded data removed]",
      "text/plain": [
       "<Figure size 432x288 with 1 Axes>"
      ]
     },
     "metadata": {
      "needs_background": "light"
     },
     "output_type": "display_data"
    },
    {
     "name": "stdout",
     "output_type": "stream",
     "text": [
      "Confusion Matrix for Testing: \n",
      "[[72  0]\n",
      " [17 25]]\n"
     ]
    }
   ],
   "source": [
    "accuracy, precision, recall, f1, AUC = pd.DataFrame(),pd.DataFrame(),pd.DataFrame(),pd.DataFrame(),pd.DataFrame()\n",
    "\n",
    "for i in range(30):\n",
    "    \n",
    "    X_train,X_test,y_train,y_test = train_test_split(X,y,test_size=0.2,stratify=y, random_state=np.random.randint(1,i+1*42))\n",
    "    \n",
    "    # Train Kmeans \n",
    "    clf = KMeans(n_clusters=2).fit(X_train)\n",
    "    \n",
    "    # Get Distances to clusters and lables of \n",
    "    distances_to_clusters = pd.DataFrame(clf.transform(X_train), columns=['Dist to Cluster 0','Dist to Cluster 1'], index= X_train.index)\n",
    "    \n",
    "    # Calculate closest 30 points to each cluster\n",
    "    closest_to_cluster_0 = distances_to_clusters['Dist to Cluster 0'].sort_values().head(30)\n",
    "    closest_to_cluster_1 = distances_to_clusters['Dist to Cluster 1'].sort_values().head(30)\n",
    "    \n",
    "    # Using majority poll to find the lable for each cluster\n",
    "    y_pred_clust_0 = y_train.loc[closest_to_cluster_0.index].value_counts().idxmax()\n",
    "    y_pred_clust_1 = y_train.loc[closest_to_cluster_1.index].value_counts().idxmax()\n",
    "    \n",
    "    y_pred_train = pd.DataFrame()\n",
    "    y_pred_train['Predicted Labels'] = np.where(clf.labels_ == 0, y_pred_clust_0, y_pred_clust_1)\n",
    "    \n",
    "    \n",
    "    # Make Predictions on test data\n",
    "    test_distances_to_clusters = clf.transform(X_test)    \n",
    "    y_pred_test = []\n",
    "    \n",
    "    for point in range(len(X_test)):\n",
    "        closest_cluster = np.argmin(test_distances_to_clusters[point])\n",
    "        \n",
    "        if closest_cluster == 0:\n",
    "            y_pred_test.append(y_pred_clust_0)\n",
    "        else:\n",
    "            y_pred_test.append(y_pred_clust_1)\n",
    "    \n",
    "    y_pred_test = np.array(y_pred_test)\n",
    "    \n",
    "    # Accuracy\n",
    "    accuracy.loc[i,'Train'] = accuracy_score(y_train,y_pred_train)\n",
    "    accuracy.loc[i,'Test'] = accuracy_score(y_test,y_pred_test)\n",
    "\n",
    "    # Precision\n",
    "    precision.loc[i,'Train'] = precision_score(y_train,y_pred_train)\n",
    "    precision.loc[i,'Test'] = precision_score(y_test,y_pred_test)\n",
    "    \n",
    "    # Recall\n",
    "    recall.loc[i,'Train'] = recall_score(y_train,y_pred_train)\n",
    "    recall.loc[i,'Test'] = recall_score(y_test,y_pred_test)\n",
    "    \n",
    "    # F1 Score\n",
    "    f1.loc[i,'Train'] = f1_score(y_train,y_pred_train)\n",
    "    f1.loc[i,'Test'] = f1_score(y_test,y_pred_test)\n",
    "    \n",
    "    # AUC\n",
    "    AUC.loc[i,'Train'] = roc_auc_score(y_train,y_pred_train)\n",
    "    AUC.loc[i,'Test'] = roc_auc_score(y_test,y_pred_test)\n",
    "    \n",
    "    if i == 24:\n",
    "        # Training Curve\n",
    "        RocCurveDisplay.from_predictions(y_train,y_pred_train)\n",
    "        plt.title(\"Training ROC Curve\")\n",
    "        plt.show()\n",
    "        \n",
    "        print(f\"Confusion Matrix for Train: \\n{confusion_matrix(y_train,y_pred_train)}\")\n",
    "        \n",
    "        # Testing Curve\n",
    "        RocCurveDisplay.from_predictions(y_test,y_pred_test)\n",
    "        plt.title(\"Testing ROC Curve\")\n",
    "        plt.show()\n",
    "        \n",
    "        print(f\"Confusion Matrix for Testing: \\n{confusion_matrix(y_test,y_pred_test)}\")     "
   ]
  },
  {
   "cell_type": "code",
   "execution_count": 66,
   "id": "aedb83d4",
   "metadata": {},
   "outputs": [
    {
     "name": "stdout",
     "output_type": "stream",
     "text": [
      "The Mean Accuracy for Train is: 0.8479120879120882 and Test is: 0.8596491228070174\n",
      "\n",
      "The Mean Precision for Train is: 0.9925724128280741 and Test is: 0.9917749929865243\n",
      "\n",
      "The Mean Recall for Train is: 0.5974509803921567 and Test is: 0.6246031746031745\n",
      "\n",
      "The Mean F1-Score for Train is: 0.7455419797979721 and Test is: 0.7649396944889387\n",
      "\n",
      "The Mean AUC for Train is: 0.7973804609563121 and Test is: 0.8106812169312169\n",
      "\n"
     ]
    }
   ],
   "source": [
    "# Reporting The means of each metric\n",
    "\n",
    "print(f\"The Mean Accuracy for Train is: {accuracy['Train'].mean()} and Test is: {accuracy['Test'].mean()}\\n\")\n",
    "\n",
    "print(f\"The Mean Precision for Train is: {precision['Train'].mean()} and Test is: {precision['Test'].mean()}\\n\")\n",
    "\n",
    "print(f\"The Mean Recall for Train is: {recall['Train'].mean()} and Test is: {recall['Test'].mean()}\\n\")\n",
    "\n",
    "print(f\"The Mean F1-Score for Train is: {f1['Train'].mean()} and Test is: {f1['Test'].mean()}\\n\")\n",
    "\n",
    "print(f\"The Mean AUC for Train is: {AUC['Train'].mean()} and Test is: {AUC['Test'].mean()}\\n\")"
   ]
  },
  {
   "cell_type": "markdown",
   "id": "d2834ebf",
   "metadata": {},
   "source": [
    "**iv. Spectral Clustering: Repeat 1(b)iii using spectral clustering, which is clustering based on kernels. Research what spectral clustering is. Use RBF kernel with gamma=1 or find a gamma for which the two clutsres have the same balance as the one in original data set (if the positive class has p and the negative class has n samples, the two clusters must have p and n members). Do not label data based on their proximity to cluster center, because spectral clustering may give you non convex clusters . Instead, use fit − predict method.**"
   ]
  },
  {
   "cell_type": "code",
   "execution_count": 67,
   "id": "d4938e0d",
   "metadata": {
    "scrolled": false
   },
   "outputs": [
    {
     "data": {
      "image/png": "[encoded data removed]",
      "text/plain": [
       "<Figure size 432x288 with 1 Axes>"
      ]
     },
     "metadata": {
      "needs_background": "light"
     },
     "output_type": "display_data"
    },
    {
     "name": "stdout",
     "output_type": "stream",
     "text": [
      "Confusion Matrix for Train: \n",
      "[[283   2]\n",
      " [ 62 108]]\n"
     ]
    },
    {
     "data": {
      "image/png": "[encoded data removed]",
      "text/plain": [
       "<Figure size 432x288 with 1 Axes>"
      ]
     },
     "metadata": {
      "needs_background": "light"
     },
     "output_type": "display_data"
    },
    {
     "name": "stdout",
     "output_type": "stream",
     "text": [
      "Confusion Matrix for Testing: \n",
      "[[72  0]\n",
      " [21 21]]\n"
     ]
    }
   ],
   "source": [
    "# Monte-Carlo simulations for Spectral Clustering \n",
    "accuracy, precision, recall, f1, AUC = pd.DataFrame(),pd.DataFrame(),pd.DataFrame(),pd.DataFrame(),pd.DataFrame()\n",
    "\n",
    "for i in range(30):\n",
    "    \n",
    "    # Split data into train-test sets\n",
    "    X_train,X_test,y_train,y_test = train_test_split(X,y,test_size=0.2,stratify=y, \n",
    "                                                     random_state= np.random.randint(1,i+1*300))\n",
    "                                                    \n",
    "    \n",
    "    # Normalize The Data\n",
    "    X_train_stand = MinMaxScaler().fit_transform(X_train)\n",
    "    \n",
    "    # Train the SpectralClustering and get predicted lables \n",
    "    predicted_labels = SpectralClustering(n_clusters=2,affinity='rbf',gamma=1.0).fit_predict(X_train_stand)\n",
    "    predicted_labels = pd.DataFrame(predicted_labels,index=X_train.index, columns=['Predicted Cluster'])\n",
    "    \n",
    "    # Seperate according to clusters\n",
    "    points_in_clust_0 = predicted_labels[predicted_labels['Predicted Cluster'] == 0]\n",
    "    points_in_clust_1 = predicted_labels[predicted_labels['Predicted Cluster'] == 1]\n",
    "\n",
    "    # Do majority polling\n",
    "    majority_class_clust_0 = y_train.loc[points_in_clust_0.index].value_counts().idxmax()\n",
    "    majority_class_clust_1 = y_train.loc[points_in_clust_1.index].value_counts().idxmax()\n",
    "    \n",
    "    # For all datpoints assign the majority class\n",
    "    y_pred_train = np.where(predicted_labels['Predicted Cluster'] == 0, majority_class_clust_0, majority_class_clust_1)\n",
    " \n",
    "    \n",
    "    # Test on test data\n",
    "    X_test_stand = MinMaxScaler().fit_transform(X_test)\n",
    "    y_pred_test = SpectralClustering(n_clusters=2, affinity='rbf',gamma=1.0).fit_predict(X_test_stand)\n",
    "    \n",
    "    y_pred_test = np.where(y_pred_test == 0,majority_class_clust_0,majority_class_clust_1 )\n",
    "    \n",
    "    # Calculating Various Metrices for Clustering\n",
    "    # Accuracy\n",
    "    accuracy.loc[i,'Train'] = accuracy_score(y_train,y_pred_train)\n",
    "    accuracy.loc[i,'Test'] = accuracy_score(y_test,y_pred_test)\n",
    "\n",
    "    # Precision\n",
    "    precision.loc[i,'Train'] = precision_score(y_train,y_pred_train)\n",
    "    precision.loc[i,'Test'] = precision_score(y_test,y_pred_test)\n",
    "    \n",
    "    # Recall\n",
    "    recall.loc[i,'Train'] = recall_score(y_train,y_pred_train)\n",
    "    recall.loc[i,'Test'] = recall_score(y_test,y_pred_test)\n",
    "    \n",
    "    # F1 Score\n",
    "    f1.loc[i,'Train'] = f1_score(y_train,y_pred_train)\n",
    "    f1.loc[i,'Test'] = f1_score(y_test,y_pred_test)\n",
    "    \n",
    "    # AUC\n",
    "    AUC.loc[i,'Train'] = roc_auc_score(y_train,y_pred_train)\n",
    "    AUC.loc[i,'Test'] = roc_auc_score(y_test,y_pred_test)\n",
    "    \n",
    "    # Plot ROC curves for 1 iteration\n",
    "    if i == 24:\n",
    "        # Training Curve\n",
    "        RocCurveDisplay.from_predictions(y_train,y_pred_train)\n",
    "        plt.title(\"Training ROC Curve\")\n",
    "        plt.show()\n",
    "        \n",
    "        print(f\"Confusion Matrix for Train: \\n{confusion_matrix(y_train,y_pred_train)}\")\n",
    "        \n",
    "        # Testing Curve\n",
    "        RocCurveDisplay.from_predictions(y_test,y_pred_test)\n",
    "        plt.title(\"Testing ROC Curve\")\n",
    "        plt.show()\n",
    "        \n",
    "        print(f\"Confusion Matrix for Testing: \\n{confusion_matrix(y_test,y_pred_test)}\")     \n"
   ]
  },
  {
   "cell_type": "code",
   "execution_count": 68,
   "id": "a8422784",
   "metadata": {},
   "outputs": [
    {
     "name": "stdout",
     "output_type": "stream",
     "text": [
      "The Mean Accuracy for Train is: 0.8553846153846156 and Test is: 0.6347953216374268\n",
      "\n",
      "The Mean Precision for Train is: 0.9810242311202776 and Test is: 0.775129884160654\n",
      "\n",
      "The Mean Recall for Train is: 0.6252941176470587 and Test is: 0.4714285714285715\n",
      "\n",
      "The Mean F1-Score for Train is: 0.762411093983664 and Test is: 0.5295121293473151\n",
      "\n",
      "The Mean AUC for Train is: 0.8089628482972135 and Test is: 0.6007605820105819\n",
      "\n"
     ]
    }
   ],
   "source": [
    "# Reporting The means of each metric\n",
    "\n",
    "print(f\"The Mean Accuracy for Train is: {accuracy['Train'].mean()} and Test is: {accuracy['Test'].mean()}\\n\")\n",
    "\n",
    "print(f\"The Mean Precision for Train is: {precision['Train'].mean()} and Test is: {precision['Test'].mean()}\\n\")\n",
    "\n",
    "print(f\"The Mean Recall for Train is: {recall['Train'].mean()} and Test is: {recall['Test'].mean()}\\n\")\n",
    "\n",
    "print(f\"The Mean F1-Score for Train is: {f1['Train'].mean()} and Test is: {f1['Test'].mean()}\\n\")\n",
    "\n",
    "print(f\"The Mean AUC for Train is: {AUC['Train'].mean()} and Test is: {AUC['Test'].mean()}\\n\")"
   ]
  },
  {
   "cell_type": "markdown",
   "id": "1b3d8a94",
   "metadata": {},
   "source": [
    "**v. One can expect that supervised learning on the full data set works better than semi-supervised learning with half of the data set labeled.One can expect that unsupervised learning underperforms in such situations. Compare the results you obtained by those methods**"
   ]
  },
  {
   "cell_type": "markdown",
   "id": "7da814e0",
   "metadata": {},
   "source": [
    "### Results\n",
    "\n",
    "Yes, according to our above results we can conclude that the best performing algorithm is the supervised SVC giving us an accuracy of 97% on the testing data. It is closely followed by the semi-supervised algorithm with an accuracy of 96%. \n",
    "\n",
    "Coming to the unsupervised algorithms, K-Means performs better than Specteral Clustering with an accuracy of 85% whilst the latter performs poorly with an accuracy of 63% on testing data.\n",
    "\n",
    "The results line up with the expected performances. "
   ]
  },
  {
   "cell_type": "markdown",
   "id": "8990938a",
   "metadata": {},
   "source": [
    "### 2. Active Learning Using Support Vector Machines\n",
    "\n",
    ">**(a) Download the banknote authentication Data Set from: https://archive.ics.uci.edu/ml/datasets/banknote+authentication. Choose 472 data points randomly as the test set, and the remaining 900 points as the training set. This is a binary classification problem.**"
   ]
  },
  {
   "cell_type": "code",
   "execution_count": 69,
   "id": "1f44dc0e",
   "metadata": {},
   "outputs": [],
   "source": [
    "# Load Bank Authentication Data\n",
    "column_names = ['Variance','Skewness','Curtosis','Entropy','Class']\n",
    "df = pd.read_csv('../Data/data_banknote_authentication.txt', names=column_names)\n",
    "\n",
    "X = df.iloc[:,:-1]\n",
    "y = df.iloc[:,-1:]"
   ]
  },
  {
   "cell_type": "markdown",
   "id": "7f67c6cd",
   "metadata": {},
   "source": [
    "**(b) Repeat each of the following two procedures 50 times. You will have 50 errors for 90 SVMs per each procedure.**\n",
    "\n",
    ">**i. Train a SVM with a pool of 10 randomly selected data points from the training set using linear kernel and L1 penalty. Select the penalty parameter using 5-fold cross validation. Repeat this process by adding 10 other randomly selected data points to the pool, until you use all the 900 points. Do NOT replace the samples back into the training set at each step. Calculate the test error for each SVM. You will have 90 SVMs that were trained using 10, 20, 30, ... , 900 data points and their 90 test errors. You have implemented passive learning.**"
   ]
  },
  {
   "cell_type": "code",
   "execution_count": 71,
   "id": "9226d175",
   "metadata": {
    "scrolled": true
   },
   "outputs": [],
   "source": [
    "# Monte-Carlo Simulation for Passive learning\n",
    "\n",
    "test_error_passive = pd.DataFrame()\n",
    "for i in range(50):\n",
    "    \n",
    "    # Perform Train-test split\n",
    "    X_train,X_test,y_train,y_test = train_test_split(X,y,test_size=472, stratify=y)\n",
    "    \n",
    "    # Get 10 random samples from training set\n",
    "    train_pool_x = pd.DataFrame()\n",
    "    \n",
    "    clf = LinearSVC(penalty='l1',dual=False, max_iter=10000)\n",
    "    cv = StratifiedKFold(n_splits=5,shuffle=True)\n",
    "    parameters = {'C': np.logspace(-3,6,10)}\n",
    "    \n",
    "    svm_no = 0\n",
    "    while len(X_train) > 0:\n",
    "        svm_no += 1\n",
    "        sample = X_train.sample(10)\n",
    "        train_pool_x = pd.concat([train_pool_x,sample])\n",
    "        train_pool_y = y_train.loc[train_pool_x.index]\n",
    "        \n",
    "        X_train.drop(sample.index, axis=0, inplace=True)\n",
    "        \n",
    "        # Train the SVM on selected pool of datapoints\n",
    "        grid = GridSearchCV(estimator=clf,param_grid=parameters,cv = cv, scoring='accuracy')\n",
    "        grid.fit(train_pool_x,train_pool_y.values.ravel())\n",
    "        \n",
    "        test_error_passive.loc[i,'SVM'+ str(svm_no)] = 1 - grid.score(X_test,y_test)\n",
    "        "
   ]
  },
  {
   "cell_type": "code",
   "execution_count": 72,
   "id": "ce98a8eb",
   "metadata": {
    "scrolled": true
   },
   "outputs": [
    {
     "name": "stdout",
     "output_type": "stream",
     "text": [
      "Average Test Error for Passive Learning: \n",
      "\n"
     ]
    },
    {
     "data": {
      "text/html": [
       "<div>\n",
       "<style scoped>\n",
       "    .dataframe tbody tr th:only-of-type {\n",
       "        vertical-align: middle;\n",
       "    }\n",
       "\n",
       "    .dataframe tbody tr th {\n",
       "        vertical-align: top;\n",
       "    }\n",
       "\n",
       "    .dataframe thead th {\n",
       "        text-align: right;\n",
       "    }\n",
       "</style>\n",
       "<table border=\"1\" class=\"dataframe\">\n",
       "  <thead>\n",
       "    <tr style=\"text-align: right;\">\n",
       "      <th></th>\n",
       "      <th>0</th>\n",
       "      <th>1</th>\n",
       "      <th>2</th>\n",
       "      <th>3</th>\n",
       "      <th>4</th>\n",
       "      <th>5</th>\n",
       "      <th>6</th>\n",
       "      <th>7</th>\n",
       "      <th>8</th>\n",
       "      <th>9</th>\n",
       "      <th>...</th>\n",
       "      <th>40</th>\n",
       "      <th>41</th>\n",
       "      <th>42</th>\n",
       "      <th>43</th>\n",
       "      <th>44</th>\n",
       "      <th>45</th>\n",
       "      <th>46</th>\n",
       "      <th>47</th>\n",
       "      <th>48</th>\n",
       "      <th>49</th>\n",
       "    </tr>\n",
       "  </thead>\n",
       "  <tbody>\n",
       "    <tr>\n",
       "      <th>0</th>\n",
       "      <td>0.011394</td>\n",
       "      <td>0.015819</td>\n",
       "      <td>0.015089</td>\n",
       "      <td>0.014171</td>\n",
       "      <td>0.022952</td>\n",
       "      <td>0.014548</td>\n",
       "      <td>0.01935</td>\n",
       "      <td>0.014101</td>\n",
       "      <td>0.01476</td>\n",
       "      <td>0.008875</td>\n",
       "      <td>...</td>\n",
       "      <td>0.015207</td>\n",
       "      <td>0.015301</td>\n",
       "      <td>0.015725</td>\n",
       "      <td>0.013677</td>\n",
       "      <td>0.017114</td>\n",
       "      <td>0.017985</td>\n",
       "      <td>0.014972</td>\n",
       "      <td>0.018362</td>\n",
       "      <td>0.015066</td>\n",
       "      <td>0.028508</td>\n",
       "    </tr>\n",
       "  </tbody>\n",
       "</table>\n",
       "<p>1 rows × 50 columns</p>\n",
       "</div>"
      ],
      "text/plain": [
       "         0         1         2         3         4         5        6   \\\n",
       "0  0.011394  0.015819  0.015089  0.014171  0.022952  0.014548  0.01935   \n",
       "\n",
       "         7        8         9   ...        40        41        42        43  \\\n",
       "0  0.014101  0.01476  0.008875  ...  0.015207  0.015301  0.015725  0.013677   \n",
       "\n",
       "         44        45        46        47        48        49  \n",
       "0  0.017114  0.017985  0.014972  0.018362  0.015066  0.028508  \n",
       "\n",
       "[1 rows x 50 columns]"
      ]
     },
     "execution_count": 72,
     "metadata": {},
     "output_type": "execute_result"
    }
   ],
   "source": [
    "print(\"Average Test Error for Passive Learning: \\n\")\n",
    "pd.DataFrame(test_error_passive.mean(axis=1)).T"
   ]
  },
  {
   "cell_type": "markdown",
   "id": "aacd1986",
   "metadata": {},
   "source": [
    "**ii. Train a SVM with a pool of 10 randomly selected data points from the training set using linear kernel and L1 penalty. Select the parameters of the SVM with 5-fold cross validation. Choose the 10 closest data points in the training set to the hyperplane of the SVM and add them to the pool. Do not replace the samples back into the training set. Train a new SVM using the pool. Repeat this process until all training data is used. You will have 90 SVMs that were trained using 10, 20, 30,..., 900 data points and their 90 test errors.You have implemented active learning.**"
   ]
  },
  {
   "cell_type": "code",
   "execution_count": 73,
   "id": "9d55ea1d",
   "metadata": {
    "scrolled": true
   },
   "outputs": [
    {
     "name": "stdout",
     "output_type": "stream",
     "text": [
      "Iter No.: 0\n",
      "Iter No.: 1\n",
      "Iter No.: 2\n",
      "Iter No.: 3\n",
      "Iter No.: 4\n",
      "Iter No.: 5\n",
      "Iter No.: 6\n",
      "Iter No.: 7\n",
      "Iter No.: 8\n",
      "Iter No.: 9\n",
      "Iter No.: 10\n",
      "Iter No.: 11\n",
      "Iter No.: 12\n",
      "Iter No.: 13\n",
      "Iter No.: 14\n",
      "Iter No.: 15\n",
      "Iter No.: 16\n",
      "Iter No.: 17\n",
      "Iter No.: 18\n",
      "Iter No.: 19\n",
      "Iter No.: 20\n",
      "Iter No.: 21\n",
      "Iter No.: 22\n",
      "Iter No.: 23\n",
      "Iter No.: 24\n",
      "Iter No.: 25\n",
      "Iter No.: 26\n",
      "Iter No.: 27\n",
      "Iter No.: 28\n",
      "Iter No.: 29\n",
      "Iter No.: 30\n",
      "Iter No.: 31\n",
      "Iter No.: 32\n",
      "Iter No.: 33\n",
      "Iter No.: 34\n",
      "Iter No.: 35\n",
      "Iter No.: 36\n",
      "Iter No.: 37\n",
      "Iter No.: 38\n",
      "Iter No.: 39\n",
      "Iter No.: 40\n",
      "Iter No.: 41\n",
      "Iter No.: 42\n",
      "Iter No.: 43\n",
      "Iter No.: 44\n",
      "Iter No.: 45\n",
      "Iter No.: 46\n",
      "Iter No.: 47\n",
      "Iter No.: 48\n",
      "Iter No.: 49\n"
     ]
    }
   ],
   "source": [
    "# Monte-Carlo Simulation for Active learning\n",
    "\n",
    "test_error_active = pd.DataFrame()\n",
    "for i in range(50):\n",
    "    \n",
    "    # Perform Train-test split\n",
    "    X_train,X_test,y_train,y_test = train_test_split(X,y,test_size=472, stratify=y)\n",
    "    \n",
    "    # Get 10 random samples from training set\n",
    "    train_pool_x = pd.DataFrame()\n",
    "    \n",
    "    clf = LinearSVC(penalty='l1',dual=False, max_iter=10000)\n",
    "    cv = StratifiedKFold(n_splits=5,shuffle=True)\n",
    "    parameters = {'C': np.logspace(-3,6,10)}\n",
    "    print(f\"Iter No.: {i}\")\n",
    "    \n",
    "    svm_no = 0\n",
    "    while len(X_train) > 0:\n",
    "        svm_no += 1\n",
    "        if len(train_pool_x) <= 0:\n",
    "            \n",
    "            sample = X_train.sample(10)\n",
    "            \n",
    "            while len(y_train['Class'].loc[sample.index].value_counts()) != 2:\n",
    "                sample = X_train.sample(10)\n",
    "                    \n",
    "        else:\n",
    "            closest_points = pd.DataFrame(grid.decision_function(X_train), index=X_train.index).nsmallest(10,columns=0)\n",
    "            sample = X_train.loc[closest_points.index]\n",
    "            \n",
    "        train_pool_x = pd.concat([train_pool_x,sample])\n",
    "        train_pool_y = y_train.loc[train_pool_x.index]\n",
    "\n",
    "        X_train.drop(sample.index, axis=0, inplace=True)\n",
    "        \n",
    "        # Train the SVM on selected pool of datapoints\n",
    "        grid = GridSearchCV(estimator=clf,param_grid=parameters,cv = cv, scoring='accuracy')\n",
    "        grid.fit(train_pool_x,train_pool_y.values.ravel())\n",
    "        \n",
    "        # sample = Get 10 closest from grid\n",
    "        test_error_active.loc[i,'SVM'+ str(svm_no)] = 1 - grid.score(X_test,y_test)"
   ]
  },
  {
   "cell_type": "code",
   "execution_count": 74,
   "id": "8153d004",
   "metadata": {
    "scrolled": true
   },
   "outputs": [
    {
     "name": "stdout",
     "output_type": "stream",
     "text": [
      "The Average Test Errors for Active Learning\n"
     ]
    },
    {
     "data": {
      "text/html": [
       "<div>\n",
       "<style scoped>\n",
       "    .dataframe tbody tr th:only-of-type {\n",
       "        vertical-align: middle;\n",
       "    }\n",
       "\n",
       "    .dataframe tbody tr th {\n",
       "        vertical-align: top;\n",
       "    }\n",
       "\n",
       "    .dataframe thead th {\n",
       "        text-align: right;\n",
       "    }\n",
       "</style>\n",
       "<table border=\"1\" class=\"dataframe\">\n",
       "  <thead>\n",
       "    <tr style=\"text-align: right;\">\n",
       "      <th></th>\n",
       "      <th>0</th>\n",
       "      <th>1</th>\n",
       "      <th>2</th>\n",
       "      <th>3</th>\n",
       "      <th>4</th>\n",
       "      <th>5</th>\n",
       "      <th>6</th>\n",
       "      <th>7</th>\n",
       "      <th>8</th>\n",
       "      <th>9</th>\n",
       "      <th>...</th>\n",
       "      <th>40</th>\n",
       "      <th>41</th>\n",
       "      <th>42</th>\n",
       "      <th>43</th>\n",
       "      <th>44</th>\n",
       "      <th>45</th>\n",
       "      <th>46</th>\n",
       "      <th>47</th>\n",
       "      <th>48</th>\n",
       "      <th>49</th>\n",
       "    </tr>\n",
       "  </thead>\n",
       "  <tbody>\n",
       "    <tr>\n",
       "      <th>0</th>\n",
       "      <td>0.061841</td>\n",
       "      <td>0.053531</td>\n",
       "      <td>0.048282</td>\n",
       "      <td>0.055085</td>\n",
       "      <td>0.100235</td>\n",
       "      <td>0.040019</td>\n",
       "      <td>0.066667</td>\n",
       "      <td>0.058333</td>\n",
       "      <td>0.054143</td>\n",
       "      <td>0.055556</td>\n",
       "      <td>...</td>\n",
       "      <td>0.064313</td>\n",
       "      <td>0.05492</td>\n",
       "      <td>0.081403</td>\n",
       "      <td>0.053178</td>\n",
       "      <td>0.084887</td>\n",
       "      <td>0.021798</td>\n",
       "      <td>0.061276</td>\n",
       "      <td>0.056897</td>\n",
       "      <td>0.025565</td>\n",
       "      <td>0.078978</td>\n",
       "    </tr>\n",
       "  </tbody>\n",
       "</table>\n",
       "<p>1 rows × 50 columns</p>\n",
       "</div>"
      ],
      "text/plain": [
       "         0         1         2         3         4         5         6   \\\n",
       "0  0.061841  0.053531  0.048282  0.055085  0.100235  0.040019  0.066667   \n",
       "\n",
       "         7         8         9   ...        40       41        42        43  \\\n",
       "0  0.058333  0.054143  0.055556  ...  0.064313  0.05492  0.081403  0.053178   \n",
       "\n",
       "         44        45        46        47        48        49  \n",
       "0  0.084887  0.021798  0.061276  0.056897  0.025565  0.078978  \n",
       "\n",
       "[1 rows x 50 columns]"
      ]
     },
     "execution_count": 74,
     "metadata": {},
     "output_type": "execute_result"
    }
   ],
   "source": [
    "print(\"The Average Test Errors for Active Learning\")\n",
    "pd.DataFrame(test_error_active.mean(axis=1)).T"
   ]
  },
  {
   "cell_type": "markdown",
   "id": "c3291de3",
   "metadata": {},
   "source": [
    "**(c) Average the 50 test errors for each of the incrementally trained 90 SVMs in 2(b)i and 2(b)ii. By doing so, you are performing a Monte Carlo simulation. Plot average test error versus number of training instances for both active and passive learners on the same figure and report your conclusions. Here, you are actually obtaining a learning curve by Monte-Carlo simulation.**"
   ]
  },
  {
   "cell_type": "code",
   "execution_count": 77,
   "id": "2d4b96d0",
   "metadata": {},
   "outputs": [
    {
     "data": {
      "image/png": "[encoded data removed]",
      "text/plain": [
       "<Figure size 432x288 with 1 Axes>"
      ]
     },
     "metadata": {
      "needs_background": "light"
     },
     "output_type": "display_data"
    }
   ],
   "source": [
    "# Plot test errors\n",
    "\n",
    "x_scale = np.arange(1,91)\n",
    "plt.plot(x_scale,test_error_active.mean(axis=0))\n",
    "plt.plot(x_scale,test_error_passive.mean(axis=0))\n",
    "\n",
    "plt.xlabel('SVM Training Instances')\n",
    "plt.ylabel('Average Test Error')\n",
    "plt.legend(['Active','Passive'])\n",
    "plt.title('Average Test Errors for all 90 instances of SVM')\n",
    "plt.show()"
   ]
  },
  {
   "cell_type": "markdown",
   "id": "48a0ec3f",
   "metadata": {},
   "source": [
    "### References\n",
    "\n",
    "1. https://scikit-learn.org/stable/modules/generated/sklearn.model_selection.GridSearchCV.html\n",
    "2. https://numpy.org/doc/stable/reference/random/generated/numpy.random.randint.html\n",
    "3. https://stackoverflow.com/questions/64375744/does-kmeans-transform-return-the-euclidian-distance-of-each-point-to-its-assigne\n",
    "4. https://stackoverflow.com/questions/54240144/distance-between-nodes-and-the-centroid-in-a-kmeans-cluster\n",
    "5. http://scikit-learn.org/stable/modules/generated/sklearn.svm.LinearSVC.html\n",
    "6. http://scikit-learn.org/stable/modules/generated/sklearn.cluster.KMeans.html\n",
    "7. http://scikit-learn.org/stable/modules/generated/sklearn.cluster.SpectralClustering.html\n",
    "8. http://scikit-learn.org/stable/modules/generated/sklearn.preprocessing.StandardScaler.html\n",
    "9. http://scikit-learn.org/stable/modules/generated/sklearn.preprocessing.MinMaxScaler.html\n",
    "10. http://scikit-learn.org/stable/modules/generated/sklearn.metrics.RocCurveDisplay.html\n",
    "11. http://scikit-learn.org/stable/modules/generated/sklearn.metrics.roc_auc_score.html\n",
    "12. http://scikit-learn.org/stable/modules/generated/sklearn.metrics.f1_score.html\n",
    "13. http://scikit-learn.org/stable/modules/generated/sklearn.metrics.accuracy_score.html\n",
    "14. http://scikit-learn.org/stable/modules/generated/sklearn.model_selection.train_test_split.html\n",
    "15. https://numpy.org/doc/stable/reference/generated/numpy.logspace.html\n",
    "16. https://numpy.org/doc/stable/reference/generated/numpy.linspace.html\n",
    "17. https://imbalanced-learn.org/stable/references/generated/imblearn.pipeline.Pipeline.html\n",
    "18. http://scikit-learn.org/stable/modules/generated/sklearn.metrics.confusion_matrix.html"
   ]
  }
 ],
 "metadata": {
  "kernelspec": {
   "display_name": "Python 3 (ipykernel)",
   "language": "python",
   "name": "python3"
  },
  "language_info": {
   "codemirror_mode": {
    "name": "ipython",
    "version": 3
   },
   "file_extension": ".py",
   "mimetype": "text/x-python",
   "name": "python",
   "nbconvert_exporter": "python",
   "pygments_lexer": "ipython3",
   "version": "3.9.7"
  }
 },
 "nbformat": 4,
 "nbformat_minor": 5
}
